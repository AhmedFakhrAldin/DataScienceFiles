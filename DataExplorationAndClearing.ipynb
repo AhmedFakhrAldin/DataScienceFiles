{
 "cells": [
  {
   "cell_type": "code",
   "execution_count": 1,
   "metadata": {},
   "outputs": [],
   "source": [
    "##Importing the libraries\n",
    "import matplotlib.pyplot as plt\n",
    "import pandas as pd\n",
    "import pylab as pl\n",
    "import numpy as np\n",
    "import matplotlib.pyplot as plt\n",
    "import seaborn as sns\n",
    "import io\n",
    "import requests\n",
    "%matplotlib inline"
   ]
  },
  {
   "cell_type": "markdown",
   "metadata": {},
   "source": [
    "***\n",
    "#### Data Retrieval "
   ]
  },
  {
   "cell_type": "code",
   "execution_count": 2,
   "metadata": {},
   "outputs": [],
   "source": [
    "#importing the URL for the DATAset\n",
    "Cars2017 = 'https://www.nrcan.gc.ca/sites/www.nrcan.gc.ca/files/oee/files/csv/MY2017%20Fuel%20Consumption%20Ratings.csv'\n",
    "Cars2018 ='https://www.nrcan.gc.ca/sites/www.nrcan.gc.ca/files/oee/files/csv/MY2018%20Fuel%20Consumption%20Ratings.csv'\n",
    "Cars2019 ='https://www.nrcan.gc.ca/sites/www.nrcan.gc.ca/files/oee/files/csv/MY2019%20Fuel%20Consumption%20Ratings.csv'\n",
    "Cars2020 ='https://www.nrcan.gc.ca/sites/www.nrcan.gc.ca/files/oee/files/csv/MY2020%20Fuel%20Consumption%20Ratings.csv'"
   ]
  },
  {
   "cell_type": "code",
   "execution_count": 3,
   "metadata": {},
   "outputs": [
    {
     "name": "stderr",
     "output_type": "stream",
     "text": [
      "D:\\anaconda3\\lib\\site-packages\\IPython\\core\\interactiveshell.py:3146: DtypeWarning: Columns (0,1,2,3,4,6,7,8,9,10,11,12,13,14) have mixed types.Specify dtype option on import or set low_memory=False.\n",
      "  has_raised = await self.run_ast_nodes(code_ast.body, cell_name,\n"
     ]
    }
   ],
   "source": [
    "#Reading the Data Sets\n",
    "Cars17 = pd.read_csv(Cars2017, encoding='latin1')\n",
    "Cars18 =  pd.read_csv(Cars2018, encoding='latin1')\n",
    "Cars19 =  pd.read_csv(Cars2019, encoding='latin1')\n",
    "Cars20 =  pd.read_csv(Cars2020, encoding='latin1')\n"
   ]
  },
  {
   "cell_type": "markdown",
   "metadata": {},
   "source": [
    "*** \n",
    "\n",
    "### Data Preprocessing"
   ]
  },
  {
   "cell_type": "code",
   "execution_count": 4,
   "metadata": {},
   "outputs": [
    {
     "data": {
      "text/plain": [
       "2017                                                                                                                                                                                                                                                                     1058\n",
       "YEAR                                                                                                                                                                                                                                                                        1\n",
       "Fuel Consumption                                                                                                                                                                                                                                                            1\n",
       "of everyday driving. To help you compare vehicles from different model years, the ratings for 1995-2014 vehicles have been adjusted to reflect the improved testing.                                                                                                        1\n",
       "Understanding the Table                                                                                                                                                                                                                                                     1\n",
       "CO2 Rating                                                                                                                                                                                                                                                                  1\n",
       "Transmission                                                                                                                                                                                                                                                                1\n",
       "CO2 Emissions                                                                                                                                                                                                                                                               1\n",
       "Smog Rating                                                                                                                                                                                                                                                                 1\n",
       "NOTE: Vehicle manufacturers are using an improved testing procedure, introduced for model year 2015, to determine the fuel consumption ratings of new light-duty vehicles. The improved testing produces higher fuel consumption ratings that are more representative       1\n",
       "Model                                                                                                                                                                                                                                                                       1\n",
       "Fuel Type                                                                                                                                                                                                                                                                   1\n",
       "Name: MODEL, dtype: int64"
      ]
     },
     "execution_count": 4,
     "metadata": {},
     "output_type": "execute_result"
    }
   ],
   "source": [
    "#identifying Models in 2017 dataset\n",
    "Cars17['MODEL'].value_counts()"
   ]
  },
  {
   "cell_type": "code",
   "execution_count": 5,
   "metadata": {},
   "outputs": [],
   "source": [
    "#Reducing Size of 2017 Data Set to that of car  Numbers \n",
    "Cars17 = Cars17.iloc[0:1059, 0:15]\n"
   ]
  },
  {
   "cell_type": "code",
   "execution_count": 6,
   "metadata": {},
   "outputs": [
    {
     "data": {
      "text/plain": [
       "2018                       1083\n",
       "YEAR                          1\n",
       "Fuel Consumption              1\n",
       "Understanding the Table       1\n",
       "CO2 Rating                    1\n",
       "Transmission                  1\n",
       "CO2 Emissions                 1\n",
       "Smog Rating                   1\n",
       "Model                         1\n",
       "Fuel Type                     1\n",
       "Name: MODEL, dtype: int64"
      ]
     },
     "execution_count": 6,
     "metadata": {},
     "output_type": "execute_result"
    }
   ],
   "source": [
    "#Finding out Number of cars in 2018 Dataset\n",
    "Cars18['MODEL'].value_counts()"
   ]
  },
  {
   "cell_type": "code",
   "execution_count": 7,
   "metadata": {},
   "outputs": [],
   "source": [
    "#Reducing the Size of the Dataset to Cars of that Model\n",
    "Cars18 = Cars18.iloc[0:1084 , 0:15]"
   ]
  },
  {
   "cell_type": "code",
   "execution_count": 8,
   "metadata": {},
   "outputs": [
    {
     "data": {
      "text/plain": [
       "2019                       1050\n",
       "Fuel consumption              1\n",
       "CO2 rating                    1\n",
       "CO2 emissions                 1\n",
       "Transmission                  1\n",
       "Fuel type                     1\n",
       "Smog rating                   1\n",
       "Understanding the table       1\n",
       "Year                          1\n",
       "Model                         1\n",
       "Name: Model, dtype: int64"
      ]
     },
     "execution_count": 8,
     "metadata": {},
     "output_type": "execute_result"
    }
   ],
   "source": [
    "#Finding out Number of cars in 2019 Dataset\n",
    "Cars19['Model'].value_counts()"
   ]
  },
  {
   "cell_type": "code",
   "execution_count": 9,
   "metadata": {},
   "outputs": [],
   "source": [
    "#Reducing the Size of the Dataset to Cars of that Model\n",
    "Cars19 = Cars19.iloc[0:1050 , 0:15]"
   ]
  },
  {
   "cell_type": "code",
   "execution_count": 10,
   "metadata": {},
   "outputs": [
    {
     "data": {
      "text/plain": [
       "2020                       927\n",
       "CO2 rating                   1\n",
       "CO2 emissions                1\n",
       "Transmission                 1\n",
       "Fuel type                    1\n",
       "Understanding the table      1\n",
       "Fuel consumption             1\n",
       "Smog rating                  1\n",
       "Year                         1\n",
       "Model                        1\n",
       "Name: Model, dtype: int64"
      ]
     },
     "execution_count": 10,
     "metadata": {},
     "output_type": "execute_result"
    }
   ],
   "source": [
    "#Finding out Number of cars in 2020 Dataset\n",
    "Cars20['Model'].value_counts()"
   ]
  },
  {
   "cell_type": "code",
   "execution_count": 11,
   "metadata": {},
   "outputs": [],
   "source": [
    "#Reducing the Size of the Dataset to Cars of that Model\n",
    "Cars20 = Cars20.iloc[0:928 , 0:15]"
   ]
  },
  {
   "cell_type": "code",
   "execution_count": 12,
   "metadata": {},
   "outputs": [
    {
     "data": {
      "text/html": [
       "<div>\n",
       "<style scoped>\n",
       "    .dataframe tbody tr th:only-of-type {\n",
       "        vertical-align: middle;\n",
       "    }\n",
       "\n",
       "    .dataframe tbody tr th {\n",
       "        vertical-align: top;\n",
       "    }\n",
       "\n",
       "    .dataframe thead th {\n",
       "        text-align: right;\n",
       "    }\n",
       "</style>\n",
       "<table border=\"1\" class=\"dataframe\">\n",
       "  <thead>\n",
       "    <tr style=\"text-align: right;\">\n",
       "      <th></th>\n",
       "      <th>Model</th>\n",
       "      <th>Make</th>\n",
       "      <th>Model.1</th>\n",
       "      <th>Vehicle Class</th>\n",
       "      <th>Engine Size</th>\n",
       "      <th>Cylinders</th>\n",
       "      <th>Transmission</th>\n",
       "      <th>Fuel</th>\n",
       "      <th>Fuel Consumption</th>\n",
       "      <th>Unnamed: 9</th>\n",
       "      <th>Unnamed: 10</th>\n",
       "      <th>Unnamed: 11</th>\n",
       "      <th>CO2 Emissions</th>\n",
       "      <th>CO2</th>\n",
       "      <th>Smog</th>\n",
       "    </tr>\n",
       "  </thead>\n",
       "  <tbody>\n",
       "    <tr>\n",
       "      <th>0</th>\n",
       "      <td>Year</td>\n",
       "      <td>NaN</td>\n",
       "      <td>NaN</td>\n",
       "      <td>NaN</td>\n",
       "      <td>(L)</td>\n",
       "      <td>NaN</td>\n",
       "      <td>NaN</td>\n",
       "      <td>Type</td>\n",
       "      <td>City (L/100 km)</td>\n",
       "      <td>Hwy (L/100 km)</td>\n",
       "      <td>Comb (L/100 km)</td>\n",
       "      <td>Comb (mpg)</td>\n",
       "      <td>(g/km)</td>\n",
       "      <td>Rating</td>\n",
       "      <td>Rating</td>\n",
       "    </tr>\n",
       "    <tr>\n",
       "      <th>1</th>\n",
       "      <td>2020</td>\n",
       "      <td>Acura</td>\n",
       "      <td>ILX</td>\n",
       "      <td>Compact</td>\n",
       "      <td>2.4</td>\n",
       "      <td>4.0</td>\n",
       "      <td>AM8</td>\n",
       "      <td>Z</td>\n",
       "      <td>9.9</td>\n",
       "      <td>7.0</td>\n",
       "      <td>8.6</td>\n",
       "      <td>33</td>\n",
       "      <td>199</td>\n",
       "      <td>6</td>\n",
       "      <td>3</td>\n",
       "    </tr>\n",
       "    <tr>\n",
       "      <th>2</th>\n",
       "      <td>2020</td>\n",
       "      <td>Acura</td>\n",
       "      <td>MDX SH-AWD</td>\n",
       "      <td>SUV: Small</td>\n",
       "      <td>3.5</td>\n",
       "      <td>6.0</td>\n",
       "      <td>AS9</td>\n",
       "      <td>Z</td>\n",
       "      <td>12.3</td>\n",
       "      <td>9.2</td>\n",
       "      <td>10.9</td>\n",
       "      <td>26</td>\n",
       "      <td>254</td>\n",
       "      <td>4</td>\n",
       "      <td>3</td>\n",
       "    </tr>\n",
       "    <tr>\n",
       "      <th>3</th>\n",
       "      <td>2020</td>\n",
       "      <td>Acura</td>\n",
       "      <td>MDX SH-AWD A-SPEC</td>\n",
       "      <td>SUV: Small</td>\n",
       "      <td>3.5</td>\n",
       "      <td>6.0</td>\n",
       "      <td>AS9</td>\n",
       "      <td>Z</td>\n",
       "      <td>12.2</td>\n",
       "      <td>9.5</td>\n",
       "      <td>11.0</td>\n",
       "      <td>26</td>\n",
       "      <td>258</td>\n",
       "      <td>4</td>\n",
       "      <td>3</td>\n",
       "    </tr>\n",
       "    <tr>\n",
       "      <th>4</th>\n",
       "      <td>2020</td>\n",
       "      <td>Acura</td>\n",
       "      <td>MDX Hybrid AWD</td>\n",
       "      <td>SUV: Small</td>\n",
       "      <td>3.0</td>\n",
       "      <td>6.0</td>\n",
       "      <td>AM7</td>\n",
       "      <td>Z</td>\n",
       "      <td>9.1</td>\n",
       "      <td>9.0</td>\n",
       "      <td>9.0</td>\n",
       "      <td>31</td>\n",
       "      <td>210</td>\n",
       "      <td>5</td>\n",
       "      <td>3</td>\n",
       "    </tr>\n",
       "  </tbody>\n",
       "</table>\n",
       "</div>"
      ],
      "text/plain": [
       "  Model   Make            Model.1 Vehicle Class Engine Size  Cylinders  \\\n",
       "0  Year    NaN                NaN           NaN         (L)        NaN   \n",
       "1  2020  Acura                ILX       Compact         2.4        4.0   \n",
       "2  2020  Acura         MDX SH-AWD    SUV: Small         3.5        6.0   \n",
       "3  2020  Acura  MDX SH-AWD A-SPEC    SUV: Small         3.5        6.0   \n",
       "4  2020  Acura     MDX Hybrid AWD    SUV: Small         3.0        6.0   \n",
       "\n",
       "  Transmission  Fuel Fuel Consumption      Unnamed: 9      Unnamed: 10  \\\n",
       "0          NaN  Type  City (L/100 km)  Hwy (L/100 km)  Comb (L/100 km)   \n",
       "1          AM8     Z              9.9             7.0              8.6   \n",
       "2          AS9     Z             12.3             9.2             10.9   \n",
       "3          AS9     Z             12.2             9.5             11.0   \n",
       "4          AM7     Z              9.1             9.0              9.0   \n",
       "\n",
       "  Unnamed: 11 CO2 Emissions     CO2    Smog  \n",
       "0  Comb (mpg)        (g/km)  Rating  Rating  \n",
       "1          33           199       6       3  \n",
       "2          26           254       4       3  \n",
       "3          26           258       4       3  \n",
       "4          31           210       5       3  "
      ]
     },
     "execution_count": 12,
     "metadata": {},
     "output_type": "execute_result"
    }
   ],
   "source": [
    "Cars20.head()"
   ]
  },
  {
   "cell_type": "code",
   "execution_count": 13,
   "metadata": {},
   "outputs": [],
   "source": [
    "#Standardizing the column Names to Combine the Datasets\n",
    "Car20 = Cars20.rename(columns={Cars20.columns[9]: \"Fuelconsumption_city\", Cars20.columns[9]: \"Fuelconsumption_HWY\", Cars20.columns[10]: \"Fuelconsumption_COMB\", Cars20.columns[11]: \"comp_MPG\",  })"
   ]
  },
  {
   "cell_type": "code",
   "execution_count": null,
   "metadata": {},
   "outputs": [],
   "source": []
  },
  {
   "cell_type": "code",
   "execution_count": 14,
   "metadata": {},
   "outputs": [
    {
     "data": {
      "text/html": [
       "<div>\n",
       "<style scoped>\n",
       "    .dataframe tbody tr th:only-of-type {\n",
       "        vertical-align: middle;\n",
       "    }\n",
       "\n",
       "    .dataframe tbody tr th {\n",
       "        vertical-align: top;\n",
       "    }\n",
       "\n",
       "    .dataframe thead th {\n",
       "        text-align: right;\n",
       "    }\n",
       "</style>\n",
       "<table border=\"1\" class=\"dataframe\">\n",
       "  <thead>\n",
       "    <tr style=\"text-align: right;\">\n",
       "      <th></th>\n",
       "      <th>MODEL</th>\n",
       "      <th>MAKE</th>\n",
       "      <th>MODEL.1</th>\n",
       "      <th>VEHICLE CLASS</th>\n",
       "      <th>ENGINE SIZE</th>\n",
       "      <th>CYLINDERS</th>\n",
       "      <th>TRANSMISSION</th>\n",
       "      <th>FUEL</th>\n",
       "      <th>FUEL CONSUMPTION</th>\n",
       "      <th>Unnamed: 9</th>\n",
       "      <th>Unnamed: 10</th>\n",
       "      <th>Unnamed: 11</th>\n",
       "      <th>CO2 EMISSIONS</th>\n",
       "      <th>CO2</th>\n",
       "      <th>SMOG</th>\n",
       "    </tr>\n",
       "  </thead>\n",
       "  <tbody>\n",
       "    <tr>\n",
       "      <th>0</th>\n",
       "      <td>YEAR</td>\n",
       "      <td>NaN</td>\n",
       "      <td>NaN</td>\n",
       "      <td>NaN</td>\n",
       "      <td>(L)</td>\n",
       "      <td>NaN</td>\n",
       "      <td>NaN</td>\n",
       "      <td>TYPE</td>\n",
       "      <td>CITY (L/100 km)</td>\n",
       "      <td>HWY (L/100 km)</td>\n",
       "      <td>COMB (L/100 km)</td>\n",
       "      <td>COMB (mpg)</td>\n",
       "      <td>(g/km)</td>\n",
       "      <td>RATING</td>\n",
       "      <td>RATING</td>\n",
       "    </tr>\n",
       "    <tr>\n",
       "      <th>1</th>\n",
       "      <td>2018</td>\n",
       "      <td>ACURA</td>\n",
       "      <td>ILX</td>\n",
       "      <td>COMPACT</td>\n",
       "      <td>2.4</td>\n",
       "      <td>4.0</td>\n",
       "      <td>AM8</td>\n",
       "      <td>Z</td>\n",
       "      <td>9.4</td>\n",
       "      <td>6.8</td>\n",
       "      <td>8.2</td>\n",
       "      <td>34</td>\n",
       "      <td>192</td>\n",
       "      <td>6</td>\n",
       "      <td>3</td>\n",
       "    </tr>\n",
       "    <tr>\n",
       "      <th>2</th>\n",
       "      <td>2018</td>\n",
       "      <td>ACURA</td>\n",
       "      <td>MDX SH-AWD</td>\n",
       "      <td>SUV - SMALL</td>\n",
       "      <td>3.5</td>\n",
       "      <td>6.0</td>\n",
       "      <td>AS9</td>\n",
       "      <td>Z</td>\n",
       "      <td>12.6</td>\n",
       "      <td>9.0</td>\n",
       "      <td>11.0</td>\n",
       "      <td>26</td>\n",
       "      <td>259</td>\n",
       "      <td>4</td>\n",
       "      <td>3</td>\n",
       "    </tr>\n",
       "    <tr>\n",
       "      <th>3</th>\n",
       "      <td>2018</td>\n",
       "      <td>ACURA</td>\n",
       "      <td>MDX SH-AWD ELITE</td>\n",
       "      <td>SUV - SMALL</td>\n",
       "      <td>3.5</td>\n",
       "      <td>6.0</td>\n",
       "      <td>AS9</td>\n",
       "      <td>Z</td>\n",
       "      <td>12.2</td>\n",
       "      <td>9.0</td>\n",
       "      <td>10.7</td>\n",
       "      <td>26</td>\n",
       "      <td>251</td>\n",
       "      <td>4</td>\n",
       "      <td>3</td>\n",
       "    </tr>\n",
       "    <tr>\n",
       "      <th>4</th>\n",
       "      <td>2018</td>\n",
       "      <td>ACURA</td>\n",
       "      <td>MDX HYBRID AWD</td>\n",
       "      <td>SUV - SMALL</td>\n",
       "      <td>3.0</td>\n",
       "      <td>6.0</td>\n",
       "      <td>AM7</td>\n",
       "      <td>Z</td>\n",
       "      <td>9.1</td>\n",
       "      <td>9.0</td>\n",
       "      <td>9.0</td>\n",
       "      <td>31</td>\n",
       "      <td>210</td>\n",
       "      <td>5</td>\n",
       "      <td>3</td>\n",
       "    </tr>\n",
       "  </tbody>\n",
       "</table>\n",
       "</div>"
      ],
      "text/plain": [
       "  MODEL   MAKE           MODEL.1 VEHICLE CLASS ENGINE SIZE  CYLINDERS  \\\n",
       "0  YEAR    NaN               NaN           NaN         (L)        NaN   \n",
       "1  2018  ACURA               ILX       COMPACT         2.4        4.0   \n",
       "2  2018  ACURA        MDX SH-AWD   SUV - SMALL         3.5        6.0   \n",
       "3  2018  ACURA  MDX SH-AWD ELITE   SUV - SMALL         3.5        6.0   \n",
       "4  2018  ACURA    MDX HYBRID AWD   SUV - SMALL         3.0        6.0   \n",
       "\n",
       "  TRANSMISSION  FUEL FUEL CONSUMPTION      Unnamed: 9      Unnamed: 10  \\\n",
       "0          NaN  TYPE  CITY (L/100 km)  HWY (L/100 km)  COMB (L/100 km)   \n",
       "1          AM8     Z              9.4             6.8              8.2   \n",
       "2          AS9     Z             12.6             9.0             11.0   \n",
       "3          AS9     Z             12.2             9.0             10.7   \n",
       "4          AM7     Z              9.1             9.0              9.0   \n",
       "\n",
       "  Unnamed: 11 CO2 EMISSIONS      CO2    SMOG  \n",
       "0  COMB (mpg)         (g/km)  RATING  RATING  \n",
       "1          34            192       6       3  \n",
       "2          26            259       4       3  \n",
       "3          26            251       4       3  \n",
       "4          31            210       5       3  "
      ]
     },
     "execution_count": 14,
     "metadata": {},
     "output_type": "execute_result"
    }
   ],
   "source": [
    "Cars18.head()"
   ]
  },
  {
   "cell_type": "code",
   "execution_count": 15,
   "metadata": {},
   "outputs": [],
   "source": [
    "Car17 = pd.DataFrame(data=Cars17.values, columns=Car20.columns)\n",
    "Car18 = pd.DataFrame(data=Cars18.values, columns=Car20.columns)\n",
    "Car19 = pd.DataFrame(data=Cars19.values, columns=Car20.columns)\n"
   ]
  },
  {
   "cell_type": "code",
   "execution_count": 16,
   "metadata": {},
   "outputs": [
    {
     "data": {
      "text/html": [
       "<div>\n",
       "<style scoped>\n",
       "    .dataframe tbody tr th:only-of-type {\n",
       "        vertical-align: middle;\n",
       "    }\n",
       "\n",
       "    .dataframe tbody tr th {\n",
       "        vertical-align: top;\n",
       "    }\n",
       "\n",
       "    .dataframe thead th {\n",
       "        text-align: right;\n",
       "    }\n",
       "</style>\n",
       "<table border=\"1\" class=\"dataframe\">\n",
       "  <thead>\n",
       "    <tr style=\"text-align: right;\">\n",
       "      <th></th>\n",
       "      <th>Model</th>\n",
       "      <th>Make</th>\n",
       "      <th>Model.1</th>\n",
       "      <th>Vehicle Class</th>\n",
       "      <th>Engine Size</th>\n",
       "      <th>Cylinders</th>\n",
       "      <th>Transmission</th>\n",
       "      <th>Fuel</th>\n",
       "      <th>Fuel Consumption</th>\n",
       "      <th>Fuelconsumption_HWY</th>\n",
       "      <th>Fuelconsumption_COMB</th>\n",
       "      <th>comp_MPG</th>\n",
       "      <th>CO2 Emissions</th>\n",
       "      <th>CO2</th>\n",
       "      <th>Smog</th>\n",
       "    </tr>\n",
       "  </thead>\n",
       "  <tbody>\n",
       "    <tr>\n",
       "      <th>0</th>\n",
       "      <td>Year</td>\n",
       "      <td>NaN</td>\n",
       "      <td>NaN</td>\n",
       "      <td>NaN</td>\n",
       "      <td>(L)</td>\n",
       "      <td>NaN</td>\n",
       "      <td>NaN</td>\n",
       "      <td>Type</td>\n",
       "      <td>City (L/100 km)</td>\n",
       "      <td>Hwy (L/100 km)</td>\n",
       "      <td>Comb (L/100 km)</td>\n",
       "      <td>Comb (mpg)</td>\n",
       "      <td>(g/km)</td>\n",
       "      <td>Rating</td>\n",
       "      <td>Rating</td>\n",
       "    </tr>\n",
       "    <tr>\n",
       "      <th>1</th>\n",
       "      <td>2019</td>\n",
       "      <td>Acura</td>\n",
       "      <td>ILX</td>\n",
       "      <td>Compact</td>\n",
       "      <td>2.4</td>\n",
       "      <td>4</td>\n",
       "      <td>AM8</td>\n",
       "      <td>Z</td>\n",
       "      <td>9.9</td>\n",
       "      <td>7.0</td>\n",
       "      <td>8.6</td>\n",
       "      <td>33</td>\n",
       "      <td>199</td>\n",
       "      <td>6</td>\n",
       "      <td>3</td>\n",
       "    </tr>\n",
       "    <tr>\n",
       "      <th>2</th>\n",
       "      <td>2019</td>\n",
       "      <td>Acura</td>\n",
       "      <td>MDX SH-AWD</td>\n",
       "      <td>SUV: Small</td>\n",
       "      <td>3.5</td>\n",
       "      <td>6</td>\n",
       "      <td>AS9</td>\n",
       "      <td>Z</td>\n",
       "      <td>12.2</td>\n",
       "      <td>9.0</td>\n",
       "      <td>10.8</td>\n",
       "      <td>26</td>\n",
       "      <td>252</td>\n",
       "      <td>4</td>\n",
       "      <td>3</td>\n",
       "    </tr>\n",
       "    <tr>\n",
       "      <th>3</th>\n",
       "      <td>2019</td>\n",
       "      <td>Acura</td>\n",
       "      <td>MDX SH-AWD A-SPEC</td>\n",
       "      <td>SUV: Small</td>\n",
       "      <td>3.5</td>\n",
       "      <td>6</td>\n",
       "      <td>AS9</td>\n",
       "      <td>Z</td>\n",
       "      <td>12.2</td>\n",
       "      <td>9.5</td>\n",
       "      <td>11.0</td>\n",
       "      <td>26</td>\n",
       "      <td>258</td>\n",
       "      <td>4</td>\n",
       "      <td>3</td>\n",
       "    </tr>\n",
       "    <tr>\n",
       "      <th>4</th>\n",
       "      <td>2019</td>\n",
       "      <td>Acura</td>\n",
       "      <td>MDX Hybrid AWD</td>\n",
       "      <td>SUV: Small</td>\n",
       "      <td>3.0</td>\n",
       "      <td>6</td>\n",
       "      <td>AM7</td>\n",
       "      <td>Z</td>\n",
       "      <td>9.1</td>\n",
       "      <td>9.0</td>\n",
       "      <td>9.0</td>\n",
       "      <td>31</td>\n",
       "      <td>210</td>\n",
       "      <td>5</td>\n",
       "      <td>3</td>\n",
       "    </tr>\n",
       "  </tbody>\n",
       "</table>\n",
       "</div>"
      ],
      "text/plain": [
       "  Model   Make            Model.1 Vehicle Class Engine Size Cylinders  \\\n",
       "0  Year    NaN                NaN           NaN         (L)       NaN   \n",
       "1  2019  Acura                ILX       Compact         2.4         4   \n",
       "2  2019  Acura         MDX SH-AWD    SUV: Small         3.5         6   \n",
       "3  2019  Acura  MDX SH-AWD A-SPEC    SUV: Small         3.5         6   \n",
       "4  2019  Acura     MDX Hybrid AWD    SUV: Small         3.0         6   \n",
       "\n",
       "  Transmission  Fuel Fuel Consumption Fuelconsumption_HWY  \\\n",
       "0          NaN  Type  City (L/100 km)      Hwy (L/100 km)   \n",
       "1          AM8     Z              9.9                 7.0   \n",
       "2          AS9     Z             12.2                 9.0   \n",
       "3          AS9     Z             12.2                 9.5   \n",
       "4          AM7     Z              9.1                 9.0   \n",
       "\n",
       "  Fuelconsumption_COMB    comp_MPG CO2 Emissions     CO2    Smog  \n",
       "0      Comb (L/100 km)  Comb (mpg)        (g/km)  Rating  Rating  \n",
       "1                  8.6          33           199       6       3  \n",
       "2                 10.8          26           252       4       3  \n",
       "3                 11.0          26           258       4       3  \n",
       "4                  9.0          31           210       5       3  "
      ]
     },
     "execution_count": 16,
     "metadata": {},
     "output_type": "execute_result"
    }
   ],
   "source": [
    "Car19.head()"
   ]
  },
  {
   "cell_type": "code",
   "execution_count": 17,
   "metadata": {},
   "outputs": [],
   "source": [
    "#Combining Data Sets to One file \n",
    "Cars = pd.concat([Car17,Car18, Car19, Car20], ignore_index=True) "
   ]
  },
  {
   "cell_type": "code",
   "execution_count": 18,
   "metadata": {},
   "outputs": [],
   "source": [
    "Cars = pd.DataFrame(data=Cars.values, columns=Car20.columns)  \n"
   ]
  },
  {
   "cell_type": "code",
   "execution_count": 19,
   "metadata": {},
   "outputs": [],
   "source": [
    "MissingData = Cars.isnull()"
   ]
  },
  {
   "cell_type": "code",
   "execution_count": 20,
   "metadata": {},
   "outputs": [
    {
     "name": "stdout",
     "output_type": "stream",
     "text": [
      "Model\n",
      "False    4121\n",
      "Name: Model, dtype: int64\n",
      "\n",
      "Make\n",
      "False    4117\n",
      "True        4\n",
      "Name: Make, dtype: int64\n",
      "\n",
      "Model.1\n",
      "False    4117\n",
      "True        4\n",
      "Name: Model.1, dtype: int64\n",
      "\n",
      "Vehicle Class\n",
      "False    4117\n",
      "True        4\n",
      "Name: Vehicle Class, dtype: int64\n",
      "\n",
      "Engine Size\n",
      "False    4121\n",
      "Name: Engine Size, dtype: int64\n",
      "\n",
      "Cylinders\n",
      "False    4117\n",
      "True        4\n",
      "Name: Cylinders, dtype: int64\n",
      "\n",
      "Transmission\n",
      "False    4117\n",
      "True        4\n",
      "Name: Transmission, dtype: int64\n",
      "\n",
      "Fuel\n",
      "False    4121\n",
      "Name: Fuel, dtype: int64\n",
      "\n",
      "Fuel Consumption\n",
      "False    4121\n",
      "Name: Fuel Consumption, dtype: int64\n",
      "\n",
      "Fuelconsumption_HWY\n",
      "False    4121\n",
      "Name: Fuelconsumption_HWY, dtype: int64\n",
      "\n",
      "Fuelconsumption_COMB\n",
      "False    4121\n",
      "Name: Fuelconsumption_COMB, dtype: int64\n",
      "\n",
      "comp_MPG\n",
      "False    4121\n",
      "Name: comp_MPG, dtype: int64\n",
      "\n",
      "CO2 Emissions\n",
      "False    4121\n",
      "Name: CO2 Emissions, dtype: int64\n",
      "\n",
      "CO2\n",
      "False    4121\n",
      "Name: CO2, dtype: int64\n",
      "\n",
      "Smog\n",
      "False    4121\n",
      "Name: Smog, dtype: int64\n",
      "\n"
     ]
    }
   ],
   "source": [
    "for column in MissingData.columns.values.tolist():\n",
    "    print(column)\n",
    "    print (MissingData[column].value_counts())\n",
    "    print(\"\")    "
   ]
  },
  {
   "cell_type": "code",
   "execution_count": 21,
   "metadata": {},
   "outputs": [
    {
     "data": {
      "text/html": [
       "<div>\n",
       "<style scoped>\n",
       "    .dataframe tbody tr th:only-of-type {\n",
       "        vertical-align: middle;\n",
       "    }\n",
       "\n",
       "    .dataframe tbody tr th {\n",
       "        vertical-align: top;\n",
       "    }\n",
       "\n",
       "    .dataframe thead th {\n",
       "        text-align: right;\n",
       "    }\n",
       "</style>\n",
       "<table border=\"1\" class=\"dataframe\">\n",
       "  <thead>\n",
       "    <tr style=\"text-align: right;\">\n",
       "      <th></th>\n",
       "      <th>Model</th>\n",
       "      <th>Make</th>\n",
       "      <th>Model.1</th>\n",
       "      <th>Vehicle Class</th>\n",
       "      <th>Engine Size</th>\n",
       "      <th>Cylinders</th>\n",
       "      <th>Transmission</th>\n",
       "      <th>Fuel</th>\n",
       "      <th>Fuel Consumption</th>\n",
       "      <th>Fuelconsumption_HWY</th>\n",
       "      <th>Fuelconsumption_COMB</th>\n",
       "      <th>comp_MPG</th>\n",
       "      <th>CO2 Emissions</th>\n",
       "      <th>CO2</th>\n",
       "      <th>Smog</th>\n",
       "    </tr>\n",
       "  </thead>\n",
       "  <tbody>\n",
       "    <tr>\n",
       "      <th>1</th>\n",
       "      <td>2017</td>\n",
       "      <td>ACURA</td>\n",
       "      <td>ILX</td>\n",
       "      <td>COMPACT</td>\n",
       "      <td>2.4</td>\n",
       "      <td>4</td>\n",
       "      <td>AM8</td>\n",
       "      <td>Z</td>\n",
       "      <td>9.4</td>\n",
       "      <td>6.8</td>\n",
       "      <td>8.2</td>\n",
       "      <td>34</td>\n",
       "      <td>192</td>\n",
       "      <td>7</td>\n",
       "      <td>6</td>\n",
       "    </tr>\n",
       "    <tr>\n",
       "      <th>2</th>\n",
       "      <td>2017</td>\n",
       "      <td>ACURA</td>\n",
       "      <td>MDX SH-AWD</td>\n",
       "      <td>SUV - SMALL</td>\n",
       "      <td>3.5</td>\n",
       "      <td>6</td>\n",
       "      <td>AS9</td>\n",
       "      <td>Z</td>\n",
       "      <td>12.6</td>\n",
       "      <td>9.0</td>\n",
       "      <td>11.0</td>\n",
       "      <td>26</td>\n",
       "      <td>259</td>\n",
       "      <td>4</td>\n",
       "      <td>6</td>\n",
       "    </tr>\n",
       "    <tr>\n",
       "      <th>3</th>\n",
       "      <td>2017</td>\n",
       "      <td>ACURA</td>\n",
       "      <td>MDX SH-AWD ELITE</td>\n",
       "      <td>SUV - SMALL</td>\n",
       "      <td>3.5</td>\n",
       "      <td>6</td>\n",
       "      <td>AS9</td>\n",
       "      <td>Z</td>\n",
       "      <td>12.2</td>\n",
       "      <td>9.0</td>\n",
       "      <td>10.7</td>\n",
       "      <td>26</td>\n",
       "      <td>251</td>\n",
       "      <td>5</td>\n",
       "      <td>6</td>\n",
       "    </tr>\n",
       "    <tr>\n",
       "      <th>4</th>\n",
       "      <td>2017</td>\n",
       "      <td>ACURA</td>\n",
       "      <td>MDX HYBRID AWD</td>\n",
       "      <td>SUV - SMALL</td>\n",
       "      <td>3.0</td>\n",
       "      <td>6</td>\n",
       "      <td>AM7</td>\n",
       "      <td>Z</td>\n",
       "      <td>9.1</td>\n",
       "      <td>9.0</td>\n",
       "      <td>9.0</td>\n",
       "      <td>31</td>\n",
       "      <td>210</td>\n",
       "      <td>6</td>\n",
       "      <td>6</td>\n",
       "    </tr>\n",
       "    <tr>\n",
       "      <th>5</th>\n",
       "      <td>2017</td>\n",
       "      <td>ACURA</td>\n",
       "      <td>NSX</td>\n",
       "      <td>TWO-SEATER</td>\n",
       "      <td>3.5</td>\n",
       "      <td>6</td>\n",
       "      <td>AM9</td>\n",
       "      <td>Z</td>\n",
       "      <td>11.1</td>\n",
       "      <td>10.8</td>\n",
       "      <td>11.0</td>\n",
       "      <td>26</td>\n",
       "      <td>261</td>\n",
       "      <td>4</td>\n",
       "      <td>6</td>\n",
       "    </tr>\n",
       "    <tr>\n",
       "      <th>...</th>\n",
       "      <td>...</td>\n",
       "      <td>...</td>\n",
       "      <td>...</td>\n",
       "      <td>...</td>\n",
       "      <td>...</td>\n",
       "      <td>...</td>\n",
       "      <td>...</td>\n",
       "      <td>...</td>\n",
       "      <td>...</td>\n",
       "      <td>...</td>\n",
       "      <td>...</td>\n",
       "      <td>...</td>\n",
       "      <td>...</td>\n",
       "      <td>...</td>\n",
       "      <td>...</td>\n",
       "    </tr>\n",
       "    <tr>\n",
       "      <th>4116</th>\n",
       "      <td>2020</td>\n",
       "      <td>Volvo</td>\n",
       "      <td>XC40 T5 AWD</td>\n",
       "      <td>SUV: Small</td>\n",
       "      <td>2.0</td>\n",
       "      <td>4</td>\n",
       "      <td>AS8</td>\n",
       "      <td>Z</td>\n",
       "      <td>10.7</td>\n",
       "      <td>7.7</td>\n",
       "      <td>9.4</td>\n",
       "      <td>30</td>\n",
       "      <td>219</td>\n",
       "      <td>5</td>\n",
       "      <td>5</td>\n",
       "    </tr>\n",
       "    <tr>\n",
       "      <th>4117</th>\n",
       "      <td>2020</td>\n",
       "      <td>Volvo</td>\n",
       "      <td>XC60 T5 AWD</td>\n",
       "      <td>SUV: Small</td>\n",
       "      <td>2.0</td>\n",
       "      <td>4</td>\n",
       "      <td>AS8</td>\n",
       "      <td>Z</td>\n",
       "      <td>11.2</td>\n",
       "      <td>8.3</td>\n",
       "      <td>9.9</td>\n",
       "      <td>29</td>\n",
       "      <td>232</td>\n",
       "      <td>5</td>\n",
       "      <td>5</td>\n",
       "    </tr>\n",
       "    <tr>\n",
       "      <th>4118</th>\n",
       "      <td>2020</td>\n",
       "      <td>Volvo</td>\n",
       "      <td>XC60 T6 AWD</td>\n",
       "      <td>SUV: Small</td>\n",
       "      <td>2.0</td>\n",
       "      <td>4</td>\n",
       "      <td>AS8</td>\n",
       "      <td>Z</td>\n",
       "      <td>11.7</td>\n",
       "      <td>8.6</td>\n",
       "      <td>10.3</td>\n",
       "      <td>27</td>\n",
       "      <td>240</td>\n",
       "      <td>5</td>\n",
       "      <td>7</td>\n",
       "    </tr>\n",
       "    <tr>\n",
       "      <th>4119</th>\n",
       "      <td>2020</td>\n",
       "      <td>Volvo</td>\n",
       "      <td>XC90 T5 AWD</td>\n",
       "      <td>SUV: Standard</td>\n",
       "      <td>2.0</td>\n",
       "      <td>4</td>\n",
       "      <td>AS8</td>\n",
       "      <td>Z</td>\n",
       "      <td>11.2</td>\n",
       "      <td>8.3</td>\n",
       "      <td>9.9</td>\n",
       "      <td>29</td>\n",
       "      <td>232</td>\n",
       "      <td>5</td>\n",
       "      <td>5</td>\n",
       "    </tr>\n",
       "    <tr>\n",
       "      <th>4120</th>\n",
       "      <td>2020</td>\n",
       "      <td>Volvo</td>\n",
       "      <td>XC90 T6 AWD</td>\n",
       "      <td>SUV: Standard</td>\n",
       "      <td>2.0</td>\n",
       "      <td>4</td>\n",
       "      <td>AS8</td>\n",
       "      <td>Z</td>\n",
       "      <td>12.2</td>\n",
       "      <td>8.7</td>\n",
       "      <td>10.7</td>\n",
       "      <td>26</td>\n",
       "      <td>248</td>\n",
       "      <td>4</td>\n",
       "      <td>7</td>\n",
       "    </tr>\n",
       "  </tbody>\n",
       "</table>\n",
       "<p>4117 rows × 15 columns</p>\n",
       "</div>"
      ],
      "text/plain": [
       "     Model   Make           Model.1  Vehicle Class Engine Size Cylinders  \\\n",
       "1     2017  ACURA               ILX        COMPACT         2.4         4   \n",
       "2     2017  ACURA        MDX SH-AWD    SUV - SMALL         3.5         6   \n",
       "3     2017  ACURA  MDX SH-AWD ELITE    SUV - SMALL         3.5         6   \n",
       "4     2017  ACURA    MDX HYBRID AWD    SUV - SMALL         3.0         6   \n",
       "5     2017  ACURA               NSX     TWO-SEATER         3.5         6   \n",
       "...    ...    ...               ...            ...         ...       ...   \n",
       "4116  2020  Volvo       XC40 T5 AWD     SUV: Small         2.0         4   \n",
       "4117  2020  Volvo       XC60 T5 AWD     SUV: Small         2.0         4   \n",
       "4118  2020  Volvo       XC60 T6 AWD     SUV: Small         2.0         4   \n",
       "4119  2020  Volvo       XC90 T5 AWD  SUV: Standard         2.0         4   \n",
       "4120  2020  Volvo       XC90 T6 AWD  SUV: Standard         2.0         4   \n",
       "\n",
       "     Transmission Fuel Fuel Consumption Fuelconsumption_HWY  \\\n",
       "1             AM8    Z              9.4                 6.8   \n",
       "2             AS9    Z             12.6                 9.0   \n",
       "3             AS9    Z             12.2                 9.0   \n",
       "4             AM7    Z              9.1                 9.0   \n",
       "5             AM9    Z             11.1                10.8   \n",
       "...           ...  ...              ...                 ...   \n",
       "4116          AS8    Z             10.7                 7.7   \n",
       "4117          AS8    Z             11.2                 8.3   \n",
       "4118          AS8    Z             11.7                 8.6   \n",
       "4119          AS8    Z             11.2                 8.3   \n",
       "4120          AS8    Z             12.2                 8.7   \n",
       "\n",
       "     Fuelconsumption_COMB comp_MPG CO2 Emissions CO2 Smog  \n",
       "1                     8.2       34           192   7    6  \n",
       "2                    11.0       26           259   4    6  \n",
       "3                    10.7       26           251   5    6  \n",
       "4                     9.0       31           210   6    6  \n",
       "5                    11.0       26           261   4    6  \n",
       "...                   ...      ...           ...  ..  ...  \n",
       "4116                  9.4       30           219   5    5  \n",
       "4117                  9.9       29           232   5    5  \n",
       "4118                 10.3       27           240   5    7  \n",
       "4119                  9.9       29           232   5    5  \n",
       "4120                 10.7       26           248   4    7  \n",
       "\n",
       "[4117 rows x 15 columns]"
      ]
     },
     "execution_count": 21,
     "metadata": {},
     "output_type": "execute_result"
    }
   ],
   "source": [
    "Cars.dropna()"
   ]
  },
  {
   "cell_type": "markdown",
   "metadata": {},
   "source": [
    "*** \n",
    "#### Data Cleaning \n"
   ]
  },
  {
   "cell_type": "code",
   "execution_count": 22,
   "metadata": {},
   "outputs": [
    {
     "data": {
      "text/html": [
       "<div>\n",
       "<style scoped>\n",
       "    .dataframe tbody tr th:only-of-type {\n",
       "        vertical-align: middle;\n",
       "    }\n",
       "\n",
       "    .dataframe tbody tr th {\n",
       "        vertical-align: top;\n",
       "    }\n",
       "\n",
       "    .dataframe thead th {\n",
       "        text-align: right;\n",
       "    }\n",
       "</style>\n",
       "<table border=\"1\" class=\"dataframe\">\n",
       "  <thead>\n",
       "    <tr style=\"text-align: right;\">\n",
       "      <th></th>\n",
       "      <th>Model</th>\n",
       "      <th>Make</th>\n",
       "      <th>Model.1</th>\n",
       "      <th>Vehicle Class</th>\n",
       "      <th>Engine Size</th>\n",
       "      <th>Cylinders</th>\n",
       "      <th>Transmission</th>\n",
       "      <th>Fuel</th>\n",
       "      <th>Fuel Consumption</th>\n",
       "      <th>Fuelconsumption_HWY</th>\n",
       "      <th>Fuelconsumption_COMB</th>\n",
       "      <th>comp_MPG</th>\n",
       "      <th>CO2 Emissions</th>\n",
       "      <th>CO2</th>\n",
       "      <th>Smog</th>\n",
       "    </tr>\n",
       "  </thead>\n",
       "  <tbody>\n",
       "    <tr>\n",
       "      <th>0</th>\n",
       "      <td>YEAR</td>\n",
       "      <td>NaN</td>\n",
       "      <td>NaN</td>\n",
       "      <td>NaN</td>\n",
       "      <td>(L)</td>\n",
       "      <td>NaN</td>\n",
       "      <td>NaN</td>\n",
       "      <td>TYPE</td>\n",
       "      <td>CITY (L/100 km)</td>\n",
       "      <td>HWY (L/100 km)</td>\n",
       "      <td>COMB (L/100 km)</td>\n",
       "      <td>COMB (mpg)</td>\n",
       "      <td>(g/km)</td>\n",
       "      <td>RATING</td>\n",
       "      <td>RATING</td>\n",
       "    </tr>\n",
       "    <tr>\n",
       "      <th>1</th>\n",
       "      <td>2017</td>\n",
       "      <td>ACURA</td>\n",
       "      <td>ILX</td>\n",
       "      <td>COMPACT</td>\n",
       "      <td>2.4</td>\n",
       "      <td>4</td>\n",
       "      <td>AM8</td>\n",
       "      <td>Z</td>\n",
       "      <td>9.4</td>\n",
       "      <td>6.8</td>\n",
       "      <td>8.2</td>\n",
       "      <td>34</td>\n",
       "      <td>192</td>\n",
       "      <td>7</td>\n",
       "      <td>6</td>\n",
       "    </tr>\n",
       "    <tr>\n",
       "      <th>2</th>\n",
       "      <td>2017</td>\n",
       "      <td>ACURA</td>\n",
       "      <td>MDX SH-AWD</td>\n",
       "      <td>SUV - SMALL</td>\n",
       "      <td>3.5</td>\n",
       "      <td>6</td>\n",
       "      <td>AS9</td>\n",
       "      <td>Z</td>\n",
       "      <td>12.6</td>\n",
       "      <td>9.0</td>\n",
       "      <td>11.0</td>\n",
       "      <td>26</td>\n",
       "      <td>259</td>\n",
       "      <td>4</td>\n",
       "      <td>6</td>\n",
       "    </tr>\n",
       "    <tr>\n",
       "      <th>3</th>\n",
       "      <td>2017</td>\n",
       "      <td>ACURA</td>\n",
       "      <td>MDX SH-AWD ELITE</td>\n",
       "      <td>SUV - SMALL</td>\n",
       "      <td>3.5</td>\n",
       "      <td>6</td>\n",
       "      <td>AS9</td>\n",
       "      <td>Z</td>\n",
       "      <td>12.2</td>\n",
       "      <td>9.0</td>\n",
       "      <td>10.7</td>\n",
       "      <td>26</td>\n",
       "      <td>251</td>\n",
       "      <td>5</td>\n",
       "      <td>6</td>\n",
       "    </tr>\n",
       "    <tr>\n",
       "      <th>4</th>\n",
       "      <td>2017</td>\n",
       "      <td>ACURA</td>\n",
       "      <td>MDX HYBRID AWD</td>\n",
       "      <td>SUV - SMALL</td>\n",
       "      <td>3.0</td>\n",
       "      <td>6</td>\n",
       "      <td>AM7</td>\n",
       "      <td>Z</td>\n",
       "      <td>9.1</td>\n",
       "      <td>9.0</td>\n",
       "      <td>9.0</td>\n",
       "      <td>31</td>\n",
       "      <td>210</td>\n",
       "      <td>6</td>\n",
       "      <td>6</td>\n",
       "    </tr>\n",
       "  </tbody>\n",
       "</table>\n",
       "</div>"
      ],
      "text/plain": [
       "  Model   Make           Model.1 Vehicle Class Engine Size Cylinders  \\\n",
       "0  YEAR    NaN               NaN           NaN         (L)       NaN   \n",
       "1  2017  ACURA               ILX       COMPACT         2.4         4   \n",
       "2  2017  ACURA        MDX SH-AWD   SUV - SMALL         3.5         6   \n",
       "3  2017  ACURA  MDX SH-AWD ELITE   SUV - SMALL         3.5         6   \n",
       "4  2017  ACURA    MDX HYBRID AWD   SUV - SMALL         3.0         6   \n",
       "\n",
       "  Transmission  Fuel Fuel Consumption Fuelconsumption_HWY  \\\n",
       "0          NaN  TYPE  CITY (L/100 km)      HWY (L/100 km)   \n",
       "1          AM8     Z              9.4                 6.8   \n",
       "2          AS9     Z             12.6                 9.0   \n",
       "3          AS9     Z             12.2                 9.0   \n",
       "4          AM7     Z              9.1                 9.0   \n",
       "\n",
       "  Fuelconsumption_COMB    comp_MPG CO2 Emissions     CO2    Smog  \n",
       "0      COMB (L/100 km)  COMB (mpg)        (g/km)  RATING  RATING  \n",
       "1                  8.2          34           192       7       6  \n",
       "2                 11.0          26           259       4       6  \n",
       "3                 10.7          26           251       5       6  \n",
       "4                  9.0          31           210       6       6  "
      ]
     },
     "execution_count": 22,
     "metadata": {},
     "output_type": "execute_result"
    }
   ],
   "source": [
    "Cars.head()"
   ]
  },
  {
   "cell_type": "code",
   "execution_count": 23,
   "metadata": {},
   "outputs": [
    {
     "data": {
      "text/plain": [
       "2018    1083\n",
       "2017    1058\n",
       "2019    1049\n",
       "2020     927\n",
       "YEAR       2\n",
       "Year       2\n",
       "Name: Model, dtype: int64"
      ]
     },
     "execution_count": 23,
     "metadata": {},
     "output_type": "execute_result"
    }
   ],
   "source": [
    "Cars['Model'].value_counts()"
   ]
  },
  {
   "cell_type": "code",
   "execution_count": 24,
   "metadata": {},
   "outputs": [],
   "source": [
    "indexname = Cars[Cars['Model'] == 'YEAR'].index"
   ]
  },
  {
   "cell_type": "code",
   "execution_count": 25,
   "metadata": {},
   "outputs": [],
   "source": [
    "Cars.drop(indexname, inplace = True)"
   ]
  },
  {
   "cell_type": "code",
   "execution_count": 26,
   "metadata": {},
   "outputs": [
    {
     "data": {
      "text/plain": [
       "2018    1083\n",
       "2017    1058\n",
       "2019    1049\n",
       "2020     927\n",
       "Year       2\n",
       "Name: Model, dtype: int64"
      ]
     },
     "execution_count": 26,
     "metadata": {},
     "output_type": "execute_result"
    }
   ],
   "source": [
    "Cars['Model'].value_counts()"
   ]
  },
  {
   "cell_type": "code",
   "execution_count": 27,
   "metadata": {},
   "outputs": [],
   "source": [
    "indexname = Cars[Cars['Model'] == 'Year'].index"
   ]
  },
  {
   "cell_type": "code",
   "execution_count": 28,
   "metadata": {},
   "outputs": [],
   "source": [
    "Cars.drop(indexname, inplace = True)"
   ]
  },
  {
   "cell_type": "code",
   "execution_count": 29,
   "metadata": {},
   "outputs": [
    {
     "data": {
      "text/html": [
       "<div>\n",
       "<style scoped>\n",
       "    .dataframe tbody tr th:only-of-type {\n",
       "        vertical-align: middle;\n",
       "    }\n",
       "\n",
       "    .dataframe tbody tr th {\n",
       "        vertical-align: top;\n",
       "    }\n",
       "\n",
       "    .dataframe thead th {\n",
       "        text-align: right;\n",
       "    }\n",
       "</style>\n",
       "<table border=\"1\" class=\"dataframe\">\n",
       "  <thead>\n",
       "    <tr style=\"text-align: right;\">\n",
       "      <th></th>\n",
       "      <th>Model</th>\n",
       "      <th>Make</th>\n",
       "      <th>Model.1</th>\n",
       "      <th>Vehicle Class</th>\n",
       "      <th>Engine Size</th>\n",
       "      <th>Cylinders</th>\n",
       "      <th>Transmission</th>\n",
       "      <th>Fuel</th>\n",
       "      <th>Fuel Consumption</th>\n",
       "      <th>Fuelconsumption_HWY</th>\n",
       "      <th>Fuelconsumption_COMB</th>\n",
       "      <th>comp_MPG</th>\n",
       "      <th>CO2 Emissions</th>\n",
       "      <th>CO2</th>\n",
       "      <th>Smog</th>\n",
       "    </tr>\n",
       "  </thead>\n",
       "  <tbody>\n",
       "    <tr>\n",
       "      <th>1</th>\n",
       "      <td>2017</td>\n",
       "      <td>ACURA</td>\n",
       "      <td>ILX</td>\n",
       "      <td>COMPACT</td>\n",
       "      <td>2.4</td>\n",
       "      <td>4</td>\n",
       "      <td>AM8</td>\n",
       "      <td>Z</td>\n",
       "      <td>9.4</td>\n",
       "      <td>6.8</td>\n",
       "      <td>8.2</td>\n",
       "      <td>34</td>\n",
       "      <td>192</td>\n",
       "      <td>7</td>\n",
       "      <td>6</td>\n",
       "    </tr>\n",
       "    <tr>\n",
       "      <th>2</th>\n",
       "      <td>2017</td>\n",
       "      <td>ACURA</td>\n",
       "      <td>MDX SH-AWD</td>\n",
       "      <td>SUV - SMALL</td>\n",
       "      <td>3.5</td>\n",
       "      <td>6</td>\n",
       "      <td>AS9</td>\n",
       "      <td>Z</td>\n",
       "      <td>12.6</td>\n",
       "      <td>9.0</td>\n",
       "      <td>11.0</td>\n",
       "      <td>26</td>\n",
       "      <td>259</td>\n",
       "      <td>4</td>\n",
       "      <td>6</td>\n",
       "    </tr>\n",
       "    <tr>\n",
       "      <th>3</th>\n",
       "      <td>2017</td>\n",
       "      <td>ACURA</td>\n",
       "      <td>MDX SH-AWD ELITE</td>\n",
       "      <td>SUV - SMALL</td>\n",
       "      <td>3.5</td>\n",
       "      <td>6</td>\n",
       "      <td>AS9</td>\n",
       "      <td>Z</td>\n",
       "      <td>12.2</td>\n",
       "      <td>9.0</td>\n",
       "      <td>10.7</td>\n",
       "      <td>26</td>\n",
       "      <td>251</td>\n",
       "      <td>5</td>\n",
       "      <td>6</td>\n",
       "    </tr>\n",
       "    <tr>\n",
       "      <th>4</th>\n",
       "      <td>2017</td>\n",
       "      <td>ACURA</td>\n",
       "      <td>MDX HYBRID AWD</td>\n",
       "      <td>SUV - SMALL</td>\n",
       "      <td>3.0</td>\n",
       "      <td>6</td>\n",
       "      <td>AM7</td>\n",
       "      <td>Z</td>\n",
       "      <td>9.1</td>\n",
       "      <td>9.0</td>\n",
       "      <td>9.0</td>\n",
       "      <td>31</td>\n",
       "      <td>210</td>\n",
       "      <td>6</td>\n",
       "      <td>6</td>\n",
       "    </tr>\n",
       "    <tr>\n",
       "      <th>5</th>\n",
       "      <td>2017</td>\n",
       "      <td>ACURA</td>\n",
       "      <td>NSX</td>\n",
       "      <td>TWO-SEATER</td>\n",
       "      <td>3.5</td>\n",
       "      <td>6</td>\n",
       "      <td>AM9</td>\n",
       "      <td>Z</td>\n",
       "      <td>11.1</td>\n",
       "      <td>10.8</td>\n",
       "      <td>11.0</td>\n",
       "      <td>26</td>\n",
       "      <td>261</td>\n",
       "      <td>4</td>\n",
       "      <td>6</td>\n",
       "    </tr>\n",
       "  </tbody>\n",
       "</table>\n",
       "</div>"
      ],
      "text/plain": [
       "  Model   Make           Model.1 Vehicle Class Engine Size Cylinders  \\\n",
       "1  2017  ACURA               ILX       COMPACT         2.4         4   \n",
       "2  2017  ACURA        MDX SH-AWD   SUV - SMALL         3.5         6   \n",
       "3  2017  ACURA  MDX SH-AWD ELITE   SUV - SMALL         3.5         6   \n",
       "4  2017  ACURA    MDX HYBRID AWD   SUV - SMALL         3.0         6   \n",
       "5  2017  ACURA               NSX    TWO-SEATER         3.5         6   \n",
       "\n",
       "  Transmission Fuel Fuel Consumption Fuelconsumption_HWY Fuelconsumption_COMB  \\\n",
       "1          AM8    Z              9.4                 6.8                  8.2   \n",
       "2          AS9    Z             12.6                 9.0                 11.0   \n",
       "3          AS9    Z             12.2                 9.0                 10.7   \n",
       "4          AM7    Z              9.1                 9.0                  9.0   \n",
       "5          AM9    Z             11.1                10.8                 11.0   \n",
       "\n",
       "  comp_MPG CO2 Emissions CO2 Smog  \n",
       "1       34           192   7    6  \n",
       "2       26           259   4    6  \n",
       "3       26           251   5    6  \n",
       "4       31           210   6    6  \n",
       "5       26           261   4    6  "
      ]
     },
     "execution_count": 29,
     "metadata": {},
     "output_type": "execute_result"
    }
   ],
   "source": [
    "Cars.head()"
   ]
  },
  {
   "cell_type": "code",
   "execution_count": 30,
   "metadata": {},
   "outputs": [
    {
     "name": "stdout",
     "output_type": "stream",
     "text": [
      "<class 'pandas.core.frame.DataFrame'>\n",
      "Int64Index: 4117 entries, 1 to 4120\n",
      "Data columns (total 15 columns):\n",
      " #   Column                Non-Null Count  Dtype \n",
      "---  ------                --------------  ----- \n",
      " 0   Model                 4117 non-null   object\n",
      " 1   Make                  4117 non-null   object\n",
      " 2   Model.1               4117 non-null   object\n",
      " 3   Vehicle Class         4117 non-null   object\n",
      " 4   Engine Size           4117 non-null   object\n",
      " 5   Cylinders             4117 non-null   object\n",
      " 6   Transmission          4117 non-null   object\n",
      " 7   Fuel                  4117 non-null   object\n",
      " 8   Fuel Consumption      4117 non-null   object\n",
      " 9   Fuelconsumption_HWY   4117 non-null   object\n",
      " 10  Fuelconsumption_COMB  4117 non-null   object\n",
      " 11  comp_MPG              4117 non-null   object\n",
      " 12  CO2 Emissions         4117 non-null   object\n",
      " 13  CO2                   4117 non-null   object\n",
      " 14  Smog                  4117 non-null   object\n",
      "dtypes: object(15)\n",
      "memory usage: 514.6+ KB\n"
     ]
    }
   ],
   "source": [
    "Cars.info()"
   ]
  },
  {
   "cell_type": "code",
   "execution_count": 31,
   "metadata": {},
   "outputs": [],
   "source": [
    "#Changing the Data Type of the Variables\n",
    "Cars = Cars.astype({\"Model\":'category', \"Engine Size\":'float', \"Cylinders\":'int',\"Fuel Consumption\":'float', \"Fuelconsumption_HWY\":'float', \"Fuelconsumption_COMB\":'float', \"comp_MPG\":'int', \"CO2 Emissions\":'int', \"CO2\":'int', \"Smog\":'int', })"
   ]
  },
  {
   "cell_type": "code",
   "execution_count": 32,
   "metadata": {},
   "outputs": [
    {
     "name": "stdout",
     "output_type": "stream",
     "text": [
      "<class 'pandas.core.frame.DataFrame'>\n",
      "Int64Index: 4117 entries, 1 to 4120\n",
      "Data columns (total 15 columns):\n",
      " #   Column                Non-Null Count  Dtype   \n",
      "---  ------                --------------  -----   \n",
      " 0   Model                 4117 non-null   category\n",
      " 1   Make                  4117 non-null   object  \n",
      " 2   Model.1               4117 non-null   object  \n",
      " 3   Vehicle Class         4117 non-null   object  \n",
      " 4   Engine Size           4117 non-null   float64 \n",
      " 5   Cylinders             4117 non-null   int32   \n",
      " 6   Transmission          4117 non-null   object  \n",
      " 7   Fuel                  4117 non-null   object  \n",
      " 8   Fuel Consumption      4117 non-null   float64 \n",
      " 9   Fuelconsumption_HWY   4117 non-null   float64 \n",
      " 10  Fuelconsumption_COMB  4117 non-null   float64 \n",
      " 11  comp_MPG              4117 non-null   int32   \n",
      " 12  CO2 Emissions         4117 non-null   int32   \n",
      " 13  CO2                   4117 non-null   int32   \n",
      " 14  Smog                  4117 non-null   int32   \n",
      "dtypes: category(1), float64(4), int32(5), object(5)\n",
      "memory usage: 406.3+ KB\n"
     ]
    }
   ],
   "source": [
    "Cars.info()"
   ]
  },
  {
   "cell_type": "markdown",
   "metadata": {},
   "source": [
    "***\n",
    "### Feature Correlation"
   ]
  },
  {
   "cell_type": "code",
   "execution_count": 33,
   "metadata": {},
   "outputs": [],
   "source": [
    "def correlation_heatmap(train):\n",
    "    correlations = train.corr()\n",
    "\n",
    "    fig, ax = plt.subplots(figsize=(10,10))\n",
    "    sns.heatmap(correlations, vmax=1.0, center=0, fmt='.2f',\n",
    "                square=True, linewidths=.5, annot=True, cbar_kws={\"shrink\": .70})\n",
    "    plt.show();"
   ]
  },
  {
   "cell_type": "code",
   "execution_count": 34,
   "metadata": {},
   "outputs": [],
   "source": [
    "#Standardizing the column Names to Combine the Datasets\n",
    "Cars = Cars.rename(columns={Cars.columns[8]: \"Fuelconsumption_city\"})"
   ]
  },
  {
   "cell_type": "code",
   "execution_count": 35,
   "metadata": {},
   "outputs": [
    {
     "data": {
      "text/plain": [
       "Model                   category\n",
       "Make                      object\n",
       "Model.1                   object\n",
       "Vehicle Class             object\n",
       "Engine Size              float64\n",
       "Cylinders                  int32\n",
       "Transmission              object\n",
       "Fuel                      object\n",
       "Fuelconsumption_city     float64\n",
       "Fuelconsumption_HWY      float64\n",
       "Fuelconsumption_COMB     float64\n",
       "comp_MPG                   int32\n",
       "CO2 Emissions              int32\n",
       "CO2                        int32\n",
       "Smog                       int32\n",
       "dtype: object"
      ]
     },
     "execution_count": 35,
     "metadata": {},
     "output_type": "execute_result"
    }
   ],
   "source": [
    "Cars.dtypes"
   ]
  },
  {
   "cell_type": "code",
   "execution_count": 36,
   "metadata": {},
   "outputs": [
    {
     "data": {
      "image/png": "[encoded data removed]",
      "text/plain": [
       "<Figure size 720x720 with 2 Axes>"
      ]
     },
     "metadata": {
      "needs_background": "light"
     },
     "output_type": "display_data"
    }
   ],
   "source": [
    "correlation_heatmap(Cars)"
   ]
  },
  {
   "cell_type": "code",
   "execution_count": null,
   "metadata": {},
   "outputs": [],
   "source": []
  },
  {
   "cell_type": "markdown",
   "metadata": {},
   "source": [
    "Having Identified the correlating feature - we create a room for  \n",
    "- we will use the Multi Linear Regression to train our model - to enable it to predict the Carbon emission produced by a car with these specific Features\n"
   ]
  },
  {
   "cell_type": "code",
   "execution_count": 37,
   "metadata": {},
   "outputs": [
    {
     "data": {
      "text/plain": [
       "Model                   category\n",
       "Make                      object\n",
       "Model.1                   object\n",
       "Vehicle Class             object\n",
       "Engine Size              float64\n",
       "Cylinders                  int32\n",
       "Transmission              object\n",
       "Fuel                      object\n",
       "Fuelconsumption_city     float64\n",
       "Fuelconsumption_HWY      float64\n",
       "Fuelconsumption_COMB     float64\n",
       "comp_MPG                   int32\n",
       "CO2 Emissions              int32\n",
       "CO2                        int32\n",
       "Smog                       int32\n",
       "dtype: object"
      ]
     },
     "execution_count": 37,
     "metadata": {},
     "output_type": "execute_result"
    }
   ],
   "source": [
    "Cars.dtypes"
   ]
  },
  {
   "cell_type": "code",
   "execution_count": 42,
   "metadata": {},
   "outputs": [],
   "source": [
    "cdf = Cars[['Engine Size','Cylinders','Fuelconsumption_HWY','Fuelconsumption_city','CO2 Emissions']]"
   ]
  },
  {
   "cell_type": "code",
   "execution_count": 39,
   "metadata": {},
   "outputs": [
    {
     "data": {
      "image/png": "[encoded data removed]",
      "text/plain": [
       "<Figure size 432x288 with 1 Axes>"
      ]
     },
     "metadata": {
      "needs_background": "light"
     },
     "output_type": "display_data"
    }
   ],
   "source": [
    "plt.scatter(cdf['Engine Size'], cdf['CO2 Emissions'],  color='blue')\n",
    "plt.xlabel(\"Engine size\")\n",
    "plt.ylabel(\"Emission\")\n",
    "plt.show()"
   ]
  },
  {
   "cell_type": "markdown",
   "metadata": {},
   "source": [
    "*** \n",
    "Creating Our Model\n"
   ]
  },
  {
   "cell_type": "code",
   "execution_count": 40,
   "metadata": {},
   "outputs": [],
   "source": [
    "#Creating an 80% - 20% split for \n",
    "msk = np.random.rand(len(Cars)) < 0.8\n",
    "train = cdf[msk]\n",
    "test = cdf[~msk]"
   ]
  },
  {
   "cell_type": "code",
   "execution_count": 41,
   "metadata": {},
   "outputs": [
    {
     "data": {
      "image/png": "[encoded data removed]",
      "text/plain": [
       "<Figure size 432x288 with 1 Axes>"
      ]
     },
     "metadata": {
      "needs_background": "light"
     },
     "output_type": "display_data"
    }
   ],
   "source": [
    "#Testing Train Sets Scatter Plot to isure the same biased Continues in the Data\n",
    "plt.scatter(train['Engine Size'], train['CO2 Emissions'],  color='blue')\n",
    "plt.xlabel(\"Engine size\")\n",
    "plt.ylabel(\"Emission\")\n",
    "plt.show()"
   ]
  },
  {
   "cell_type": "code",
   "execution_count": 43,
   "metadata": {},
   "outputs": [
    {
     "name": "stdout",
     "output_type": "stream",
     "text": [
      "Coefficients:  [[3.8862713  5.35694295 6.49020553 8.6055847 ]]\n"
     ]
    }
   ],
   "source": [
    "from sklearn import linear_model\n",
    "regr = linear_model.LinearRegression()\n",
    "x = np.asanyarray(train[['Engine Size','Cylinders','Fuelconsumption_HWY','Fuelconsumption_city']])\n",
    "y = np.asanyarray(train[['CO2 Emissions']])\n",
    "regr.fit (x, y)\n",
    "# The coefficients\n",
    "print ('Coefficients: ', regr.coef_)"
   ]
  },
  {
   "cell_type": "code",
   "execution_count": 44,
   "metadata": {},
   "outputs": [
    {
     "name": "stdout",
     "output_type": "stream",
     "text": [
      "Residual sum of squares: 248.25\n",
      "Variance score: 0.92\n"
     ]
    }
   ],
   "source": [
    "y_hat= regr.predict(test[['Engine Size','Cylinders','Fuelconsumption_HWY','Fuelconsumption_city']])\n",
    "x = np.asanyarray(test[['Engine Size','Cylinders','Fuelconsumption_HWY','Fuelconsumption_city']])\n",
    "y = np.asanyarray(test[['CO2 Emissions']])\n",
    "print(\"Residual sum of squares: %.2f\"\n",
    "      % np.mean((y_hat - y) ** 2))\n",
    "\n",
    "# Explained variance score: 1 is perfect prediction\n",
    "print('Variance score: %.2f' % regr.score(x, y))"
   ]
  },
  {
   "cell_type": "code",
   "execution_count": null,
   "metadata": {},
   "outputs": [],
   "source": []
  }
 ],
 "metadata": {
  "kernelspec": {
   "display_name": "Python 3",
   "language": "python",
   "name": "python3"
  },
  "language_info": {
   "codemirror_mode": {
    "name": "ipython",
    "version": 3
   },
   "file_extension": ".py",
   "mimetype": "text/x-python",
   "name": "python",
   "nbconvert_exporter": "python",
   "pygments_lexer": "ipython3",
   "version": "3.8.5"
  }
 },
 "nbformat": 4,
 "nbformat_minor": 4
}
